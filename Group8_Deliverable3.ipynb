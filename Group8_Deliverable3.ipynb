{
 "cells": [
  {
   "cell_type": "code",
   "execution_count": 89,
   "id": "30dd211d",
   "metadata": {},
   "outputs": [],
   "source": [
    "import pandas as pd\n",
    "import numpy as np\n",
    "from sklearn.preprocessing import LabelEncoder\n",
    "from sklearn.model_selection import train_test_split\n",
    "from sklearn.preprocessing import StandardScaler\n",
    "from imblearn.over_sampling import SMOTE\n",
    "from imblearn.under_sampling import RandomUnderSampler\n",
    "\n",
    "# Models\n",
    "from sklearn.ensemble import RandomForestClassifier\n",
    "from xgboost import XGBClassifier\n",
    "from sklearn.tree import DecisionTreeClassifier\n",
    "from sklearn.naive_bayes import GaussianNB\n",
    "from sklearn.linear_model import LogisticRegression\n",
    "from sklearn.svm import SVC\n",
    "from sklearn.neighbors import KNeighborsClassifier\n",
    "from sklearn import metrics\n",
    "from sklearn.metrics import precision_recall_fscore_support, confusion_matrix, classification_report, accuracy_score\n",
    "from sklearn.model_selection import GridSearchCV\n",
    "\n",
    "from sklearn.metrics import accuracy_score\n",
    "from sklearn.metrics import confusion_matrix, ConfusionMatrixDisplay\n",
    "from sklearn.metrics import roc_curve, auc\n",
    "from sklearn.metrics import classification_report\n",
    "from sklearn.metrics import mean_absolute_error , mean_squared_error , accuracy_score\n",
    "from mlxtend.plotting import plot_confusion_matrix\n",
    "\n",
    "# Visualization\n",
    "import seaborn as sns\n",
    "import matplotlib.pyplot as plt\n",
    "from sklearn import tree\n",
    "from xgboost import plot_tree\n",
    "\n",
    "# Other\n",
    "import warnings\n",
    "warnings.filterwarnings(\"ignore\")\n",
    "\n"
   ]
  },
  {
   "cell_type": "code",
   "execution_count": 90,
   "id": "a7457808",
   "metadata": {},
   "outputs": [],
   "source": [
    "df = pd.read_csv('dataset.csv',low_memory=False)\n"
   ]
  },
  {
   "cell_type": "code",
   "execution_count": 91,
   "id": "2090d4c5",
   "metadata": {},
   "outputs": [
    {
     "data": {
      "image/png": "[encoded data removed]",
      "text/plain": [
       "<Figure size 1296x504 with 1 Axes>"
      ]
     },
     "metadata": {
      "needs_background": "light"
     },
     "output_type": "display_data"
    }
   ],
   "source": [
    "nan_counts = df.isnull().sum()\n",
    "\n",
    "# filter the nan_counts Series to include only columns with non-zero NaN counts\n",
    "nan_counts_filtered = nan_counts[nan_counts > 0]\n",
    "\n",
    "# create a bar chart of the filtered NaN counts\n",
    "plt.figure(figsize=(18, 7))\n",
    "nan_counts_filtered.plot(kind='bar')\n",
    "plt.title('Number of NaN Values by Column')\n",
    "plt.xlabel('Columns')\n",
    "plt.ylabel('Number of NaN Values')\n",
    "plt.show()"
   ]
  },
  {
   "cell_type": "code",
   "execution_count": 92,
   "id": "80d0394f",
   "metadata": {},
   "outputs": [
    {
     "name": "stdout",
     "output_type": "stream",
     "text": [
      "Percentage of missing values:\n",
      " name              97.698128\n",
      "prefix            99.998122\n",
      "neo                0.000417\n",
      "pha                2.078300\n",
      "H                  0.653400\n",
      "diameter          85.789714\n",
      "albedo            85.905100\n",
      "diameter_sigma    85.803068\n",
      "ma                 0.000104\n",
      "ad                 0.000417\n",
      "per                0.000417\n",
      "per_y              0.000104\n",
      "moid               2.078300\n",
      "moid_ld            0.013250\n",
      "sigma_e            2.078404\n",
      "sigma_a            2.078404\n",
      "sigma_q            2.078404\n",
      "sigma_i            2.078404\n",
      "sigma_om           2.078404\n",
      "sigma_w            2.078404\n",
      "sigma_ma           2.078404\n",
      "sigma_ad           2.078821\n",
      "sigma_n            2.078404\n",
      "sigma_tp           2.078404\n",
      "sigma_per          2.078821\n",
      "rms                0.000209\n",
      "dtype: float64\n"
     ]
    }
   ],
   "source": [
    "# Columns with missing values in Perentage\n",
    "missing_cols = df.isna().mean() * 100\n",
    "missing_cols = missing_cols[missing_cols > 0]\n",
    "print(\"Percentage of missing values:\\n\", missing_cols)"
   ]
  },
  {
   "cell_type": "code",
   "execution_count": 93,
   "id": "65a36d88",
   "metadata": {},
   "outputs": [
    {
     "name": "stdout",
     "output_type": "stream",
     "text": [
      "1.0\n",
      "The missing data mechanism for 'H' is MCAR.\n"
     ]
    }
   ],
   "source": [
    "from scipy import stats\n",
    "\n",
    "\n",
    "# Check for missing values in the \"H\" attribute\n",
    "missing = df['H'].isna()\n",
    "\n",
    "# Prepare the data for Little's MCAR test\n",
    "observed = np.array([sum(~missing), sum(missing)])\n",
    "expected = np.array([len(df) * (1 - np.mean(missing)), len(df) * np.mean(missing)])\n",
    "\n",
    "# Conduct the test and calculate the p-value\n",
    "chi2, p_value = stats.chisquare(observed, f_exp=expected)\n",
    "print(p_value)\n",
    "# Interpret the results\n",
    "if p_value < 0.05:\n",
    "    print(\"The missing data mechanism for 'H' is not MCAR.\")\n",
    "else:\n",
    "    print(\"The missing data mechanism for 'H' is MCAR.\")"
   ]
  },
  {
   "cell_type": "code",
   "execution_count": 94,
   "id": "3e49da63",
   "metadata": {},
   "outputs": [
    {
     "name": "stdout",
     "output_type": "stream",
     "text": [
      "0.999999999999937\n",
      "The missing data mechanism for 'diameter' is MCAR.\n"
     ]
    }
   ],
   "source": [
    "# Check for missing values in the \"diameter\" attribute\n",
    "missing = df['diameter'].isna()\n",
    "\n",
    "# Prepare the data for Little's MCAR test\n",
    "observed = np.array([sum(~missing), sum(missing)])\n",
    "expected = np.array([len(df) * (1 - np.mean(missing)), len(df) * np.mean(missing)])\n",
    "\n",
    "# Conduct the test and calculate the p-value\n",
    "chi2, p_value = stats.chisquare(observed, f_exp=expected)\n",
    "print(p_value)\n",
    "# Interpret the results\n",
    "if p_value < 0.05:\n",
    "    print(\"The missing data mechanism for 'diameter' is not MCAR.\")\n",
    "else:\n",
    "    print(\"The missing data mechanism for 'diameter' is MCAR.\")"
   ]
  },
  {
   "cell_type": "code",
   "execution_count": 95,
   "id": "de6365b3",
   "metadata": {},
   "outputs": [
    {
     "name": "stdout",
     "output_type": "stream",
     "text": [
      "0.9999999999999368\n",
      "The missing data mechanism for 'albedo' is MCAR.\n"
     ]
    }
   ],
   "source": [
    "# Check for missing values in the \"albedo\" attribute\n",
    "missing = df['albedo'].isna()\n",
    "\n",
    "# Prepare the data for Little's MCAR test\n",
    "observed = np.array([sum(~missing), sum(missing)])\n",
    "expected = np.array([len(df) * (1 - np.mean(missing)), len(df) * np.mean(missing)])\n",
    "\n",
    "# Conduct the test and calculate the p-value\n",
    "chi2, p_value = stats.chisquare(observed, f_exp=expected)\n",
    "print(p_value)\n",
    "# Interpret the results\n",
    "if p_value < 0.05:\n",
    "    print(\"The missing data mechanism for 'albedo' is not MCAR.\")\n",
    "else:\n",
    "    print(\"The missing data mechanism for 'albedo' is MCAR.\")"
   ]
  },
  {
   "cell_type": "code",
   "execution_count": 96,
   "id": "4bb2b1ea",
   "metadata": {},
   "outputs": [
    {
     "name": "stdout",
     "output_type": "stream",
     "text": [
      "1.0\n",
      "The missing data mechanism for 'diameter_sigma' is MCAR.\n"
     ]
    }
   ],
   "source": [
    "# Check for missing values in the \"diameter_sigma\" attribute\n",
    "missing = df['diameter_sigma'].isna()\n",
    "\n",
    "# Prepare the data for Little's MCAR test\n",
    "observed = np.array([sum(~missing), sum(missing)])\n",
    "expected = np.array([len(df) * (1 - np.mean(missing)), len(df) * np.mean(missing)])\n",
    "\n",
    "# Conduct the test and calculate the p-value\n",
    "chi2, p_value = stats.chisquare(observed, f_exp=expected)\n",
    "print(p_value)\n",
    "# Interpret the results\n",
    "if p_value < 0.05:\n",
    "    print(\"The missing data mechanism for 'diameter_sigma' is not MCAR.\")\n",
    "else:\n",
    "    print(\"The missing data mechanism for 'diameter_sigma' is MCAR.\")"
   ]
  },
  {
   "cell_type": "code",
   "execution_count": 97,
   "id": "2ccaf78e",
   "metadata": {},
   "outputs": [],
   "source": [
    "# Remove the column which will not facilitate the analysis\n",
    "no_null_data=df.drop(['pdes', 'name', 'prefix', 'diameter', 'albedo', 'diameter_sigma'], axis=1)\n",
    "\n",
    "# Remove the row that includes null value\n",
    "no_null_data=no_null_data.dropna().reset_index(drop=True)"
   ]
  },
  {
   "cell_type": "code",
   "execution_count": 98,
   "id": "bd9ab353",
   "metadata": {},
   "outputs": [],
   "source": [
    "# Convert column data type\n",
    "no_null_data['spkid'] = no_null_data['spkid'].astype(str)"
   ]
  },
  {
   "cell_type": "code",
   "execution_count": 99,
   "id": "d75fd56f",
   "metadata": {},
   "outputs": [
    {
     "data": {
      "image/png": "[encoded data removed]",
      "text/plain": [
       "<Figure size 720x360 with 2 Axes>"
      ]
     },
     "metadata": {
      "needs_background": "light"
     },
     "output_type": "display_data"
    },
    {
     "data": {
      "image/png": "[encoded data removed]",
      "text/plain": [
       "<Figure size 864x504 with 1 Axes>"
      ]
     },
     "metadata": {
      "needs_background": "light"
     },
     "output_type": "display_data"
    }
   ],
   "source": [
    "# Figure with two subplots\n",
    "fig, axs = plt.subplots(ncols=2, figsize=(10, 5))\n",
    "\n",
    "#  Count plot of the \"neo\" variable on the left subplot\n",
    "sns.countplot(x='neo', data=df, ax=axs[0])\n",
    "axs[0].set_title('Near Earth Objects')\n",
    "\n",
    "# Add percentage labels to the left subplot\n",
    "total = float(len(df.neo))\n",
    "for p in axs[0].patches:\n",
    "    percentage = '{:.1f}%'.format(100 * p.get_height()/total)\n",
    "    x = p.get_x() + p.get_width() / 2 - 0.1\n",
    "    y = p.get_y() + p.get_height() + 3\n",
    "    axs[0].annotate(percentage, (x, y))\n",
    "\n",
    "#  Count plot of the \"pha\" variable on the right subplot\n",
    "sns.countplot(x='pha', data=df, ax=axs[1])\n",
    "axs[1].set_title('Potentially Hazardous Asteroids')\n",
    "\n",
    "# Add percentage labels to the right subplot\n",
    "total = float(len(df.pha))\n",
    "for p in axs[1].patches:\n",
    "    percentage = '{:.1f}%'.format(100 * p.get_height()/total)\n",
    "    x = p.get_x() + p.get_width() / 2 - 0.1\n",
    "    y = p.get_y() + p.get_height() + 3\n",
    "    axs[1].annotate(percentage, (x, y))\n",
    "\n",
    "# Adjust the spacing between the subplots\n",
    "fig.tight_layout()\n",
    "\n",
    "# Show the plot\n",
    "plt.show()\n",
    "\n",
    "# Count plot for Orbit Class\n",
    "fig, ax = plt.subplots(figsize=(12, 7))\n",
    "sns.countplot(x='class', data=df, ax=ax)\n",
    "plt.title('Orbit Class')\n",
    "\n",
    "\n",
    "plt.show()"
   ]
  },
  {
   "cell_type": "code",
   "execution_count": 100,
   "id": "3936cd7d",
   "metadata": {},
   "outputs": [],
   "source": [
    "from sklearn.calibration import LabelEncoder\n",
    "\n",
    "# Remove identifying columns\n",
    "data=no_null_data.drop(['id', 'spkid', 'full_name', 'orbit_id', 'equinox'], axis=1).reset_index(drop=True)\n",
    "\n",
    "# Encode categorical features and target\n",
    "one_hot_encoded_data = pd.get_dummies(data, columns=['neo', 'class'])\n",
    "one_hot_encoded_data['pha'] = LabelEncoder(\n",
    ").fit_transform(one_hot_encoded_data['pha'])"
   ]
  },
  {
   "cell_type": "code",
   "execution_count": 101,
   "id": "bde53c8d",
   "metadata": {},
   "outputs": [
    {
     "name": "stdout",
     "output_type": "stream",
     "text": [
      "Shape of original dataset : (932335, 46)\n",
      "Shape of x_train set (559401, 45)\n",
      "Shape of y_train set (559401, 1)\n",
      "Shape of x_validation set (186467, 45)\n",
      "Shape of y_validation set (186467, 1)\n",
      "Shape of x_test set (186467, 45)\n",
      "Shape of y_test set (186467, 1)\n"
     ]
    }
   ],
   "source": [
    "from sklearn.model_selection import train_test_split\n",
    "\n",
    "# Split train, validation, and test sets\n",
    "x = one_hot_encoded_data.drop('pha', axis=1)\n",
    "y = one_hot_encoded_data['pha'].to_frame()\n",
    "x_train, x_test, y_train, y_test = train_test_split(\n",
    "    x, y, test_size=0.4, random_state=100, stratify=y)\n",
    "x_val, x_test, y_val, y_test = train_test_split(\n",
    "    x_test, y_test, test_size=0.5, random_state=100, stratify=y_test)\n",
    "print(\"Shape of original dataset :\", one_hot_encoded_data.shape)\n",
    "print(\"Shape of x_train set\", x_train.shape)\n",
    "print(\"Shape of y_train set\", y_train.shape)\n",
    "print(\"Shape of x_validation set\", x_val.shape)\n",
    "print(\"Shape of y_validation set\", y_val.shape)\n",
    "print(\"Shape of x_test set\", x_test.shape)\n",
    "print(\"Shape of y_test set\", y_test.shape)"
   ]
  },
  {
   "cell_type": "code",
   "execution_count": 102,
   "id": "1e8ce398",
   "metadata": {},
   "outputs": [],
   "source": [
    "from sklearn.preprocessing import StandardScaler\n",
    "\n",
    "# Normalizing the features\n",
    "# Normalizing after splitting could prevent leaking information about the validation set into the train set\n",
    "# StandardScaler() is useful in classification and Normalizer() is useful in regression\n",
    "x_train = StandardScaler().fit_transform(x_train)\n",
    "x_val = StandardScaler().fit_transform(x_val)\n",
    "x_test = StandardScaler().fit_transform(x_test)"
   ]
  },
  {
   "cell_type": "code",
   "execution_count": 103,
   "id": "c9c2ffee",
   "metadata": {},
   "outputs": [
    {
     "data": {
      "text/plain": [
       "pha\n",
       "0      558161\n",
       "1        1240\n",
       "dtype: int64"
      ]
     },
     "execution_count": 103,
     "metadata": {},
     "output_type": "execute_result"
    }
   ],
   "source": [
    "# Imbalance in target variable\n",
    "y_train.value_counts()"
   ]
  },
  {
   "cell_type": "code",
   "execution_count": 104,
   "id": "20993731",
   "metadata": {},
   "outputs": [
    {
     "data": {
      "text/plain": [
       "pha\n",
       "0      558161\n",
       "1      279080\n",
       "dtype: int64"
      ]
     },
     "execution_count": 104,
     "metadata": {},
     "output_type": "execute_result"
    }
   ],
   "source": [
    "from imblearn.over_sampling import SMOTE\n",
    "\n",
    "# Data Upsampling - SMOTE\n",
    "x_train_us, y_train_us = SMOTE(\n",
    "    sampling_strategy=0.5, random_state=100).fit_resample(x_train, y_train)\n",
    "y_train_us.value_counts()"
   ]
  },
  {
   "cell_type": "code",
   "execution_count": 105,
   "id": "43bdbf5d",
   "metadata": {},
   "outputs": [
    {
     "data": {
      "text/plain": [
       "pha\n",
       "0      279080\n",
       "1      279080\n",
       "dtype: int64"
      ]
     },
     "execution_count": 105,
     "metadata": {},
     "output_type": "execute_result"
    }
   ],
   "source": [
    "from imblearn.under_sampling import RandomUnderSampler\n",
    "\n",
    "# Data Undersampling - Random Undersampling\n",
    "random_under_sampling = RandomUnderSampler(random_state=100)\n",
    "x_train_us_rus, y_train_us_rus = random_under_sampling.fit_resample(x_train_us, y_train_us)\n",
    "\n",
    "y_train_us_rus.value_counts()"
   ]
  },
  {
   "cell_type": "code",
   "execution_count": 106,
   "id": "d72db253",
   "metadata": {},
   "outputs": [
    {
     "data": {
      "image/png": "[encoded data removed]",
      "text/plain": [
       "<Figure size 432x288 with 1 Axes>"
      ]
     },
     "metadata": {
      "needs_background": "light"
     },
     "output_type": "display_data"
    }
   ],
   "source": [
    "from imblearn.over_sampling import SMOTE\n",
    "\n",
    "# Data Upsampling - SMOTE\n",
    "x_train_SMOTE, y_train_SMOTE = SMOTE(\n",
    "    sampling_strategy=0.5, random_state=100).fit_resample(x_train, y_train)\n",
    "y_train_SMOTE.value_counts()\n",
    "\n",
    "# Data Undersampling - Random Undersampling\n",
    "random_under_SAMPLING = RandomUnderSampler(random_state=100)\n",
    "x_train_us_UNDER, y_train_us_UNDER = random_under_SAMPLING.fit_resample(x_train_SMOTE, y_train_SMOTE)\n",
    "\n",
    "\n",
    "y_train_us_UNDER['pha'] = y_train_us_UNDER['pha'].map({0: 'N', 1: 'Y'})\n",
    "\n",
    "ax = sns.countplot(x=\"pha\", data=y_train_us_UNDER)\n",
    "total = float(len(y_train_us_UNDER))\n",
    "for p in ax.patches:\n",
    "    height = p.get_height()\n",
    "    ax.text(p.get_x()+p.get_width()/2., height + 3, '{:.2f}%'.format(100*height/total), ha=\"center\")\n",
    "plt.show()"
   ]
  },
  {
   "cell_type": "code",
   "execution_count": 120,
   "id": "e38b68ed",
   "metadata": {},
   "outputs": [
    {
     "name": "stdout",
     "output_type": "stream",
     "text": [
      "Accuracy: 0.9980908149967554\n",
      "              precision    recall  f1-score   support\n",
      "\n",
      "           0       1.00      1.00      1.00    186054\n",
      "           1       0.98      0.43      0.60       413\n",
      "\n",
      "    accuracy                           1.00    186467\n",
      "   macro avg       0.99      0.71      0.80    186467\n",
      "weighted avg       1.00      1.00      1.00    186467\n",
      "\n"
     ]
    }
   ],
   "source": [
    "from sklearn.ensemble import RandomForestClassifier\n",
    "from sklearn.metrics import precision_score, recall_score, f1_score, classification_report\n",
    "\n",
    "\n",
    "rfc = RandomForestClassifier(class_weight='balanced', random_state=100)\n",
    "# Skip Hyperparameter Tuning part because parameter with dafult value get the highest accuracy of model\n",
    "\n",
    "rfc.fit(x_train_us_rus, y_train_us_rus)\n",
    "\n",
    "# Predict for validation set\n",
    "y_val_pred = rfc.predict(x_val)\n",
    "\n",
    "# Metrics\n",
    "precision_rfc, recall_rfc, fscore_rfc, support_rfc = precision_recall_fscore_support(\n",
    "    y_val, y_val_pred, average='macro')\n",
    "# Calculate the accuracy of the model\n",
    "accuracy_rfc = accuracy_score(y_test, y_pred)\n",
    "print(\"Accuracy:\", accuracy_rfc)\n",
    "\n",
    "print(classification_report(y_val, y_val_pred))\n"
   ]
  },
  {
   "cell_type": "code",
   "execution_count": 121,
   "id": "ba93a730",
   "metadata": {},
   "outputs": [
    {
     "name": "stdout",
     "output_type": "stream",
     "text": [
      "Accuracy: 0.9980908149967554\n",
      "              precision    recall  f1-score   support\n",
      "\n",
      "           0       1.00      0.99      1.00    186054\n",
      "           1       0.24      1.00      0.39       413\n",
      "\n",
      "    accuracy                           0.99    186467\n",
      "   macro avg       0.62      1.00      0.69    186467\n",
      "weighted avg       1.00      0.99      1.00    186467\n",
      "\n"
     ]
    }
   ],
   "source": [
    "from sklearn.linear_model import LogisticRegression\n",
    "from sklearn.metrics import classification_report, precision_recall_fscore_support\n",
    "\n",
    "from sklearn.linear_model import LogisticRegression\n",
    "from sklearn.metrics import precision_score, recall_score, f1_score, classification_report\n",
    "lr = LogisticRegression()\n",
    "\n",
    "lr.fit(x_train_us_rus, y_train_us_rus)\n",
    "# Predict for validation set\n",
    "y_val_pred = lr.predict(x_val)\n",
    "\n",
    "# Metrics\n",
    "precision_lr, recall_lr, fscore_lr, support_lr = precision_recall_fscore_support(\n",
    "    y_val, y_val_pred, average='macro')\n",
    "\n",
    "# Calculate the accuracy of the model\n",
    "accuracy_lr = accuracy_score(y_test, y_pred)\n",
    "print(\"Accuracy:\", accuracy_lr)\n",
    "print(classification_report(y_val, y_val_pred))\n",
    "\n",
    "\n",
    "\n"
   ]
  },
  {
   "cell_type": "code",
   "execution_count": 129,
   "id": "eb771404",
   "metadata": {},
   "outputs": [
    {
     "name": "stdout",
     "output_type": "stream",
     "text": [
      "              precision    recall  f1-score   support\n",
      "\n",
      "           0       1.00      1.00      1.00    186054\n",
      "           1       0.94      0.43      0.59       413\n",
      "\n",
      "    accuracy                           1.00    186467\n",
      "   macro avg       0.97      0.72      0.80    186467\n",
      "weighted avg       1.00      1.00      1.00    186467\n",
      "\n",
      "Accuracy: 0.9980908149967554\n"
     ]
    }
   ],
   "source": [
    "dtc=DecisionTreeClassifier(class_weight='balanced', random_state=100)\n",
    "\n",
    "dtc.fit(x_train_us_rus, y_train_us_rus)\n",
    "# Predict for validation set\n",
    "y_val_pred=dtc.predict(x_val)\n",
    "\n",
    "# Metrics\n",
    "precision_dtc, recall_dtc, fscore_dtc, support_dtc = precision_recall_fscore_support(y_val, y_val_pred, average='macro')\n",
    "print(classification_report(y_val, y_val_pred))\n",
    "\n",
    "# Calculate the accuracy of the model\n",
    "accuracy_dtc = accuracy_score(y_test, y_pred)\n",
    "print(\"Accuracy:\", accuracy_dtc)\n",
    "\n"
   ]
  },
  {
   "cell_type": "code",
   "execution_count": 123,
   "id": "4a9063ad",
   "metadata": {},
   "outputs": [
    {
     "name": "stdout",
     "output_type": "stream",
     "text": [
      "              precision    recall  f1-score   support\n",
      "\n",
      "           0       1.00      1.00      1.00    186054\n",
      "           1       0.00      0.00      0.00       413\n",
      "\n",
      "    accuracy                           1.00    186467\n",
      "   macro avg       0.50      0.50      0.50    186467\n",
      "weighted avg       1.00      1.00      1.00    186467\n",
      "\n",
      "Accuracy: 0.9980908149967554\n"
     ]
    }
   ],
   "source": [
    "gnb=GaussianNB()\n",
    "\n",
    "gnb.fit(x_train_us_rus, y_train_us_rus)\n",
    "# Predict for validation set\n",
    "y_val_pred=gnb.predict(x_val)\n",
    "\n",
    "# Metrics\n",
    "precision_gnb, recall_gnb, fscore_gnb, support_gnb=precision_recall_fscore_support(y_val, y_val_pred, average='macro')\n",
    "print (classification_report(y_val, y_val_pred))\n",
    "\n",
    "# Calculate the accuracy of the model\n",
    "accuracy_gnb = accuracy_score(y_test, y_pred)\n",
    "print(\"Accuracy:\", accuracy_gnb)\n"
   ]
  },
  {
   "cell_type": "code",
   "execution_count": 124,
   "id": "c24dd9d2",
   "metadata": {},
   "outputs": [
    {
     "name": "stdout",
     "output_type": "stream",
     "text": [
      "Precision: 0.97\n",
      "Recall: 0.14\n",
      "F1 score: 0.25\n",
      "Accuracy: 0.9980908149967554\n",
      "              precision    recall  f1-score   support\n",
      "\n",
      "           0       1.00      1.00      1.00    186054\n",
      "           1       0.97      0.14      0.25       413\n",
      "\n",
      "    accuracy                           1.00    186467\n",
      "   macro avg       0.98      0.57      0.62    186467\n",
      "weighted avg       1.00      1.00      1.00    186467\n",
      "\n"
     ]
    }
   ],
   "source": [
    "from xgboost import XGBClassifier\n",
    "\n",
    "\n",
    "xgbc = XGBClassifier(max_depth=10, learning_rate=0.1,\n",
    "                     n_estimators=1000, eval_metric='mlogloss', random_state=100)\n",
    "\n",
    "# Train the model on the training set\n",
    "xgbc.fit(x_train, y_train)\n",
    "\n",
    "# Make predictions on the testing set\n",
    "y_pred = xgbc.predict(x_test)\n",
    "\n",
    "# Calculate precision, recall, and f1 score\n",
    "precision_xgbc = precision_score(y_test, y_pred)\n",
    "recall_xgbc = recall_score(y_test, y_pred)\n",
    "fscore_xgbc = f1_score(y_test, y_pred)\n",
    "\n",
    "# Print precision, recall, and f1 score\n",
    "print(f\"Precision: {precision_xgbc:.2f}\")\n",
    "print(f\"Recall: {recall_xgbc:.2f}\")\n",
    "print(f\"F1 score: {fscore_xgbc:.2f}\")\n",
    "\n",
    "# Calculate the accuracy of the model\n",
    "accuracy_xgbc = accuracy_score(y_test, y_pred)\n",
    "print(\"Accuracy:\", accuracy_xgbc)\n",
    "\n",
    "# Print classification report\n",
    "print(classification_report(y_test, y_pred))"
   ]
  },
  {
   "cell_type": "code",
   "execution_count": 125,
   "id": "1766a7ef",
   "metadata": {},
   "outputs": [
    {
     "name": "stdout",
     "output_type": "stream",
     "text": [
      "Accuracy: 0.9980908149967554\n",
      "              precision    recall  f1-score   support\n",
      "\n",
      "           0       1.00      1.00      1.00    186054\n",
      "           1       0.97      0.14      0.25       413\n",
      "\n",
      "    accuracy                           1.00    186467\n",
      "   macro avg       0.98      0.57      0.62    186467\n",
      "weighted avg       1.00      1.00      1.00    186467\n",
      "\n"
     ]
    }
   ],
   "source": [
    "knc=KNeighborsClassifier(n_neighbors=1)\n",
    "knc.fit(x_train_us_rus, y_train_us_rus)\n",
    "# Predict for test set\n",
    "y_test_pred=knc.predict(x_test)\n",
    "\n",
    "# Metrics\n",
    "precision_knc, recall_knc, fscore_knc, support_knc=precision_recall_fscore_support(y_test, y_test_pred, average='macro')\n",
    "\n",
    "# Calculate the accuracy of the model\n",
    "accuracy_knc = accuracy_score(y_test, y_pred)\n",
    "print(\"Accuracy:\", accuracy_knc)\n",
    "\n",
    "# Print the classification report\n",
    "print(classification_report(y_test, y_pred))"
   ]
  },
  {
   "cell_type": "code",
   "execution_count": 126,
   "id": "a100c88e",
   "metadata": {},
   "outputs": [
    {
     "data": {
      "text/html": [
       "<div>\n",
       "<style scoped>\n",
       "    .dataframe tbody tr th:only-of-type {\n",
       "        vertical-align: middle;\n",
       "    }\n",
       "\n",
       "    .dataframe tbody tr th {\n",
       "        vertical-align: top;\n",
       "    }\n",
       "\n",
       "    .dataframe thead th {\n",
       "        text-align: right;\n",
       "    }\n",
       "</style>\n",
       "<table border=\"1\" class=\"dataframe\">\n",
       "  <thead>\n",
       "    <tr style=\"text-align: right;\">\n",
       "      <th></th>\n",
       "      <th>Model</th>\n",
       "      <th>Precision</th>\n",
       "      <th>Recall</th>\n",
       "      <th>F1 Score</th>\n",
       "      <th>Accuracy</th>\n",
       "    </tr>\n",
       "  </thead>\n",
       "  <tbody>\n",
       "    <tr>\n",
       "      <th>1</th>\n",
       "      <td>Random Forest</td>\n",
       "      <td>0.988317</td>\n",
       "      <td>0.714275</td>\n",
       "      <td>0.797658</td>\n",
       "      <td>0.998091</td>\n",
       "    </tr>\n",
       "    <tr>\n",
       "      <th>2</th>\n",
       "      <td>XGBoost</td>\n",
       "      <td>0.967213</td>\n",
       "      <td>0.142857</td>\n",
       "      <td>0.248945</td>\n",
       "      <td>0.998091</td>\n",
       "    </tr>\n",
       "    <tr>\n",
       "      <th>3</th>\n",
       "      <td>Decision Tree</td>\n",
       "      <td>0.970269</td>\n",
       "      <td>0.715467</td>\n",
       "      <td>0.795351</td>\n",
       "      <td>0.998091</td>\n",
       "    </tr>\n",
       "    <tr>\n",
       "      <th>4</th>\n",
       "      <td>Navie Bayes</td>\n",
       "      <td>0.498893</td>\n",
       "      <td>0.499997</td>\n",
       "      <td>0.499444</td>\n",
       "      <td>0.998091</td>\n",
       "    </tr>\n",
       "    <tr>\n",
       "      <th>5</th>\n",
       "      <td>Logistic Regression</td>\n",
       "      <td>0.622189</td>\n",
       "      <td>0.996568</td>\n",
       "      <td>0.694664</td>\n",
       "      <td>0.998091</td>\n",
       "    </tr>\n",
       "    <tr>\n",
       "      <th>6</th>\n",
       "      <td>K-Nearest Neighbors</td>\n",
       "      <td>0.654000</td>\n",
       "      <td>0.842116</td>\n",
       "      <td>0.712024</td>\n",
       "      <td>0.998091</td>\n",
       "    </tr>\n",
       "  </tbody>\n",
       "</table>\n",
       "</div>"
      ],
      "text/plain": [
       "                 Model  Precision    Recall  F1 Score  Accuracy\n",
       "1        Random Forest   0.988317  0.714275  0.797658  0.998091\n",
       "2              XGBoost   0.967213  0.142857  0.248945  0.998091\n",
       "3        Decision Tree   0.970269  0.715467  0.795351  0.998091\n",
       "4          Navie Bayes   0.498893  0.499997  0.499444  0.998091\n",
       "5  Logistic Regression   0.622189  0.996568  0.694664  0.998091\n",
       "6  K-Nearest Neighbors   0.654000  0.842116  0.712024  0.998091"
      ]
     },
     "execution_count": 126,
     "metadata": {},
     "output_type": "execute_result"
    }
   ],
   "source": [
    "# Model Comparsion\n",
    "Model_Selection=pd.DataFrame({'Model':['Random Forest', 'XGBoost', 'Decision Tree', 'Navie Bayes', 'Logistic Regression', 'K-Nearest Neighbors'],\n",
    "                              'Precision':[precision_rfc, precision_xgbc, precision_dtc, precision_gnb, precision_lr,  precision_knc],\n",
    "                              'Recall':[recall_rfc, recall_xgbc, recall_dtc, recall_gnb, recall_lr,  recall_knc],\n",
    "                              'F1 Score':[fscore_rfc, fscore_xgbc, fscore_dtc, fscore_gnb, fscore_lr,  fscore_knc],\n",
    "                              'Accuracy': [accuracy_rfc, accuracy_xgbc, accuracy_dtc, accuracy_gnb, accuracy_lr, accuracy_knc]\n",
    "                        \n",
    "                              })\n",
    "Model_Selection.index+=1\n",
    "Model_Selection"
   ]
  },
  {
   "cell_type": "code",
   "execution_count": null,
   "id": "c63c3063",
   "metadata": {},
   "outputs": [],
   "source": []
  }
 ],
 "metadata": {
  "kernelspec": {
   "display_name": "Python 3 (ipykernel)",
   "language": "python",
   "name": "python3"
  },
  "language_info": {
   "codemirror_mode": {
    "name": "ipython",
    "version": 3
   },
   "file_extension": ".py",
   "mimetype": "text/x-python",
   "name": "python",
   "nbconvert_exporter": "python",
   "pygments_lexer": "ipython3",
   "version": "3.9.12"
  }
 },
 "nbformat": 4,
 "nbformat_minor": 5
}
